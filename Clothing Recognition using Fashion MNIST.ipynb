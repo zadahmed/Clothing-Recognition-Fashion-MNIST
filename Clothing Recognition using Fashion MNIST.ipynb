{
 "cells": [
  {
   "cell_type": "code",
   "execution_count": 24,
   "metadata": {},
   "outputs": [],
   "source": [
    "import struct\n",
    "import numpy as np\n",
    "import keras\n",
    "from keras.utils import to_categorical\n",
    "from keras.datasets import mnist\n",
    "from keras.models import Sequential\n",
    "from keras.layers import Conv2D , MaxPooling2D , Activation\n",
    "from keras.layers import Dense , Dropout , Flatten\n",
    "from keras.layers import BatchNormalization\n",
    "from keras import backend as K\n",
    "\n",
    "#extract dataset from ubyte files\n",
    "def read_idx(filename):\n",
    "    with open(filename , 'rb') as f:\n",
    "        zero , data_type , dims = struct.unpack('>HBB' , f.read(4))\n",
    "        shape = tuple(struct.unpack('>I' , f.read(4))[0] for d in range(dims))\n",
    "        return np.frombuffer(f.read() , dtype = np.uint8).reshape(shape)\n",
    "    "
   ]
  },
  {
   "cell_type": "code",
   "execution_count": 25,
   "metadata": {},
   "outputs": [],
   "source": [
    "x_train = read_idx('C:\\\\Users\\\\Zahid\\\\Desktop\\\\Deep Learning\\\\fashion_mnist\\\\train-images-idx3-ubyte')\n",
    "y_train = read_idx('C:\\\\Users\\\\Zahid\\\\Desktop\\\\Deep Learning\\\\fashion_mnist\\\\train-labels-idx1-ubyte')\n",
    "x_test = read_idx('C:\\\\Users\\\\Zahid\\\\Desktop\\\\Deep Learning\\\\fashion_mnist\\\\t10k-images-idx3-ubyte')\n",
    "y_test = read_idx('C:\\\\Users\\\\Zahid\\\\Desktop\\\\Deep Learning\\\\fashion_mnist\\\\t10k-labels-idx1-ubyte')"
   ]
  },
  {
   "cell_type": "code",
   "execution_count": 26,
   "metadata": {},
   "outputs": [
    {
     "name": "stdout",
     "output_type": "stream",
     "text": [
      "Number of samples 60000\n",
      "Number of labels  60000\n",
      "Images Dimensions (28, 28)\n",
      "Label Dimensions (60000,)\n",
      "(60000, 28, 28, 1)\n",
      "(10000, 28, 28, 1)\n"
     ]
    }
   ],
   "source": [
    "print('Number of samples' , len(x_train))\n",
    "print('Number of labels ' , len(y_train))\n",
    "print('Images Dimensions' , x_train[0].shape)\n",
    "print('Label Dimensions' , y_train.shape)\n",
    "\n",
    "\n",
    "img_rows = x_train[0].shape[0]\n",
    "img_cols = x_train[0].shape[1]\n",
    "\n",
    "x_train = x_train.reshape(x_train.shape[0] , img_rows , img_cols , 1)\n",
    "x_test = x_test.reshape(x_test.shape[0] , img_rows , img_cols , 1)\n",
    "\n",
    "print(x_train.shape)\n",
    "print(x_test.shape)"
   ]
  },
  {
   "cell_type": "code",
   "execution_count": 27,
   "metadata": {},
   "outputs": [
    {
     "name": "stdout",
     "output_type": "stream",
     "text": [
      "(60000, 28, 28, 1)\n",
      "(10000, 28, 28, 1)\n",
      "10\n",
      "784\n"
     ]
    }
   ],
   "source": [
    "x_train = x_train.astype('float32')\n",
    "x_test = x_test.astype('float32')\n",
    "\n",
    "x_train /= 255\n",
    "x_test /= 255\n",
    "\n",
    "print(x_train.shape)\n",
    "print(x_test.shape)\n",
    "\n",
    "#one hot encoding\n",
    "y_train = to_categorical(y_train)\n",
    "y_test = to_categorical(y_test)\n",
    "\n",
    "num_classes = y_test.shape[1]\n",
    "print(num_classes)\n",
    "num_pixels = x_train.shape[1] * x_train.shape[2]\n",
    "print(num_pixels)\n",
    "\n",
    "input_shape = (img_rows , img_cols , 1)"
   ]
  },
  {
   "cell_type": "code",
   "execution_count": 29,
   "metadata": {},
   "outputs": [
    {
     "name": "stdout",
     "output_type": "stream",
     "text": [
      "Model: \"sequential_5\"\n",
      "_________________________________________________________________\n",
      "Layer (type)                 Output Shape              Param #   \n",
      "=================================================================\n",
      "conv2d_7 (Conv2D)            (None, 24, 24, 20)        520       \n",
      "_________________________________________________________________\n",
      "activation_7 (Activation)    (None, 24, 24, 20)        0         \n",
      "_________________________________________________________________\n",
      "batch_normalization_1 (Batch (None, 24, 24, 20)        80        \n",
      "_________________________________________________________________\n",
      "max_pooling2d_7 (MaxPooling2 (None, 12, 12, 20)        0         \n",
      "_________________________________________________________________\n",
      "conv2d_8 (Conv2D)            (None, 8, 8, 50)          25050     \n",
      "_________________________________________________________________\n",
      "activation_8 (Activation)    (None, 8, 8, 50)          0         \n",
      "_________________________________________________________________\n",
      "batch_normalization_2 (Batch (None, 8, 8, 50)          200       \n",
      "_________________________________________________________________\n",
      "max_pooling2d_8 (MaxPooling2 (None, 4, 4, 50)          0         \n",
      "_________________________________________________________________\n",
      "flatten_4 (Flatten)          (None, 800)               0         \n",
      "_________________________________________________________________\n",
      "dense_7 (Dense)              (None, 500)               400500    \n",
      "_________________________________________________________________\n",
      "dropout_4 (Dropout)          (None, 500)               0         \n",
      "_________________________________________________________________\n",
      "dense_8 (Dense)              (None, 10)                5010      \n",
      "=================================================================\n",
      "Total params: 431,360\n",
      "Trainable params: 431,220\n",
      "Non-trainable params: 140\n",
      "_________________________________________________________________\n",
      "None\n"
     ]
    }
   ],
   "source": [
    "#Creating Model\n",
    "\n",
    "model = Sequential()\n",
    "\n",
    "#two sets of CRP\n",
    "model.add(Conv2D(20 , kernel_size = (5,5), input_shape = input_shape))\n",
    "model.add(Activation('relu'))\n",
    "model.add(BatchNormalization())\n",
    "model.add(MaxPooling2D(pool_size = (2,2) , strides = (2,2)))\n",
    "\n",
    "model.add(Conv2D(50 , kernel_size = (5,5)))\n",
    "model.add(Activation('relu'))\n",
    "model.add(BatchNormalization())\n",
    "model.add(MaxPooling2D(pool_size = (2,2) , strides = (2,2)))\n",
    "\n",
    "\n",
    "model.add(Flatten())\n",
    "\n",
    "model.add(Dense(500 , activation = 'relu'))\n",
    "model.add(Dropout(0.5))\n",
    "model.add(Dense(num_classes , activation='softmax'))\n",
    "\n",
    "model.compile(loss = 'categorical_crossentropy' , optimizer = keras.optimizers.Adadelta() , metrics =['accuracy'])\n",
    "\n",
    "print(model.summary())"
   ]
  },
  {
   "cell_type": "code",
   "execution_count": null,
   "metadata": {},
   "outputs": [
    {
     "name": "stdout",
     "output_type": "stream",
     "text": [
      "WARNING:tensorflow:From C:\\ProgramData\\Anaconda3\\lib\\site-packages\\tensorflow\\python\\ops\\math_ops.py:3066: to_int32 (from tensorflow.python.ops.math_ops) is deprecated and will be removed in a future version.\n",
      "Instructions for updating:\n",
      "Use tf.cast instead.\n",
      "Train on 60000 samples, validate on 10000 samples\n",
      "Epoch 1/10\n",
      "60000/60000 [==============================] - 275s 5ms/step - loss: 0.4761 - acc: 0.8335 - val_loss: 0.3469 - val_acc: 0.8748\n",
      "Epoch 2/10\n",
      "60000/60000 [==============================] - 233s 4ms/step - loss: 0.3171 - acc: 0.8851 - val_loss: 0.3108 - val_acc: 0.8864\n",
      "Epoch 3/10\n",
      "60000/60000 [==============================] - 225s 4ms/step - loss: 0.2777 - acc: 0.9004 - val_loss: 0.5619 - val_acc: 0.8559\n",
      "Epoch 4/10\n",
      " 1664/60000 [..............................] - ETA: 3:57 - loss: 0.2268 - acc: 0.9123"
     ]
    }
   ],
   "source": [
    "batch_size = 64\n",
    "epochs = 10\n",
    "\n",
    "final_model = model.fit(x_train , y_train , batch_size = batch_size , epochs = epochs , verbose = 1 , validation_data = (x_test , y_test) )#verbose how much information to see when training\n",
    "\n",
    "score = model.evaluate(x_test , y_test , verbose = 1)\n",
    "print(\"Test loss:\" , score[0])\n",
    "print(\"Test accuracy:\" , score[1])"
   ]
  },
  {
   "cell_type": "code",
   "execution_count": null,
   "metadata": {},
   "outputs": [],
   "source": []
  }
 ],
 "metadata": {
  "kernelspec": {
   "display_name": "Python 3",
   "language": "python",
   "name": "python3"
  },
  "language_info": {
   "codemirror_mode": {
    "name": "ipython",
    "version": 3
   },
   "file_extension": ".py",
   "mimetype": "text/x-python",
   "name": "python",
   "nbconvert_exporter": "python",
   "pygments_lexer": "ipython3",
   "version": "3.7.1"
  }
 },
 "nbformat": 4,
 "nbformat_minor": 2
}
